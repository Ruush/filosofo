{
 "cells": [
  {
   "cell_type": "code",
   "execution_count": 3,
   "metadata": {},
   "outputs": [],
   "source": [
    "lista_jovem = [\"bolovo\",\"cacetinho\",24]"
   ]
  },
  {
   "cell_type": "code",
   "execution_count": 4,
   "metadata": {},
   "outputs": [
    {
     "name": "stdout",
     "output_type": "stream",
     "text": [
      "bolovo\n",
      "cacetinho\n",
      "24\n"
     ]
    }
   ],
   "source": [
    "for i in lista_jovem:\n",
    "    print(i)"
   ]
  },
  {
   "cell_type": "code",
   "execution_count": 6,
   "metadata": {},
   "outputs": [
    {
     "name": "stdout",
     "output_type": "stream",
     "text": [
      "digita ai putoxera\n",
      "xera\n"
     ]
    }
   ],
   "source": [
    "dale = input(\"digita ai puto\")\n",
    "print(dale)"
   ]
  },
  {
   "cell_type": "code",
   "execution_count": 10,
   "metadata": {},
   "outputs": [
    {
     "data": {
      "text/plain": [
       "'Etiqueta de serviÃ§o: 8020JL1\\nInspiron 1545\\n|\\nCÃ³digo de serviÃ§o expresso: 17417643301\\n\\n|\\n'"
      ]
     },
     "execution_count": 10,
     "metadata": {},
     "output_type": "execute_result"
    }
   ],
   "source": [
    "# -*- coding: utf-8 -*-\n",
    "deile = open(\"DELL ALEXANDRE.txt\")\n",
    "deile.read()\n",
    "deile.close()"
   ]
  },
  {
   "cell_type": "code",
   "execution_count": 13,
   "metadata": {},
   "outputs": [],
   "source": [
    "c_cli = [{\n",
    "    \"name\":\"José\",\n",
    "    \"age\":27,\n",
    "    \"task\": \"Eat Ass of curious\"\n",
    "},{\n",
    "    \"name\":\"Ana\",\n",
    "    \"age\":12,\n",
    "    \"task\": \"Conda\"\n",
    "},{\n",
    "    \"name\":\"Men\",\n",
    "    \"age\":55,\n",
    "    \"task\": \"DIOCA\"\n",
    "}]"
   ]
  },
  {
   "cell_type": "code",
   "execution_count": 16,
   "metadata": {},
   "outputs": [
    {
     "data": {
      "text/plain": [
       "'José'"
      ]
     },
     "execution_count": 16,
     "metadata": {},
     "output_type": "execute_result"
    }
   ],
   "source": [
    "c_cli[0][\"name\"]"
   ]
  },
  {
   "cell_type": "code",
   "execution_count": 5,
   "metadata": {},
   "outputs": [
    {
     "name": "stdout",
     "output_type": "stream",
     "text": [
      "fala a idade ae puto: a\n"
     ]
    },
    {
     "ename": "ValueError",
     "evalue": "invalid literal for int() with base 10: 'a'",
     "output_type": "error",
     "traceback": [
      "\u001b[1;31m---------------------------------------------------------------------------\u001b[0m",
      "\u001b[1;31mValueError\u001b[0m                                Traceback (most recent call last)",
      "\u001b[1;32m<ipython-input-5-77aa3e8c9d25>\u001b[0m in \u001b[0;36m<module>\u001b[1;34m\u001b[0m\n\u001b[1;32m----> 1\u001b[1;33m \u001b[0mage\u001b[0m \u001b[1;33m=\u001b[0m \u001b[0mint\u001b[0m\u001b[1;33m(\u001b[0m\u001b[0minput\u001b[0m\u001b[1;33m(\u001b[0m\u001b[1;34m\"fala a idade ae puto: \"\u001b[0m\u001b[1;33m)\u001b[0m\u001b[1;33m)\u001b[0m\u001b[1;33m\u001b[0m\u001b[1;33m\u001b[0m\u001b[0m\n\u001b[0m\u001b[0;32m      2\u001b[0m \u001b[1;32mif\u001b[0m \u001b[0mage\u001b[0m \u001b[1;33m>=\u001b[0m \u001b[1;36m18\u001b[0m\u001b[1;33m:\u001b[0m\u001b[1;33m\u001b[0m\u001b[1;33m\u001b[0m\u001b[0m\n\u001b[0;32m      3\u001b[0m     \u001b[0mprint\u001b[0m\u001b[1;33m(\u001b[0m\u001b[1;34m\"vc é dimaio\"\u001b[0m\u001b[1;33m)\u001b[0m\u001b[1;33m\u001b[0m\u001b[1;33m\u001b[0m\u001b[0m\n\u001b[0;32m      4\u001b[0m \u001b[1;32melif\u001b[0m \u001b[0mage\u001b[0m \u001b[1;33m<=\u001b[0m \u001b[1;36m18\u001b[0m \u001b[1;33m:\u001b[0m\u001b[1;33m\u001b[0m\u001b[1;33m\u001b[0m\u001b[0m\n\u001b[0;32m      5\u001b[0m     \u001b[0mprint\u001b[0m\u001b[1;33m(\u001b[0m\u001b[1;34m'vc é dimeno'\u001b[0m\u001b[1;33m)\u001b[0m\u001b[1;33m\u001b[0m\u001b[1;33m\u001b[0m\u001b[0m\n",
      "\u001b[1;31mValueError\u001b[0m: invalid literal for int() with base 10: 'a'"
     ]
    }
   ],
   "source": [
    "age = int(input(\"fala a idade ae puto: \"))\n",
    "if age >= 18:\n",
    "    print(\"vc é dimaio\")\n",
    "elif age <= 18 :\n",
    "    print('vc é dimeno')\n",
    "else:\n",
    "    print(\"invalido\")"
   ]
  },
  {
   "cell_type": "code",
   "execution_count": 6,
   "metadata": {},
   "outputs": [
    {
     "name": "stdout",
     "output_type": "stream",
     "text": [
      "nota 1: 5\n",
      "nota 2: 5\n",
      "npassou\n"
     ]
    }
   ],
   "source": [
    "grade1 = float(input(\"nota 1: \"))\n",
    "grade2 = float(input(\"nota 2: \"))\n",
    "media = (grade1 + grade2) / 2\n",
    "\n",
    "if media > 6:\n",
    "    print('passou')\n",
    "else:\n",
    "    print('npassou')\n"
   ]
  },
  {
   "cell_type": "code",
   "execution_count": 21,
   "metadata": {},
   "outputs": [
    {
     "name": "stdout",
     "output_type": "stream",
     "text": [
      "Digite o valor de a: 1\n",
      "Digite o valor de b: -2\n",
      "Digite o valor de c: -3\n",
      "x+ = 3.000000\n",
      "x- = -1.000000\n"
     ]
    }
   ],
   "source": [
    "# EQ\n",
    "# a2 + bx + C = 0\n",
    "# BK\n",
    "#(-B +- sqtr(b2*4ac))/2a\n",
    "from math import sqrt\n",
    "\n",
    "a = float(input('Digite o valor de a: '))\n",
    "b = float(input('Digite o valor de b: '))\n",
    "c = float(input('Digite o valor de c: '))\n",
    "\n",
    "delta = b**2 - 4*a*c\n",
    "\n",
    "x_mais = (-b + sqrt(delta))/ (2*a)\n",
    "x_menos = (-b - sqrt(delta))/ (2*a)\n",
    "\n",
    "print('x+ = %f' %x_mais)\n",
    "print('x- = %f'%x_menos)"
   ]
  },
  {
   "cell_type": "code",
   "execution_count": 48,
   "metadata": {},
   "outputs": [
    {
     "name": "stdout",
     "output_type": "stream",
     "text": [
      "0\n",
      "1\n",
      "2\n",
      "3\n",
      "[1, 2, 3, 312312321]\n"
     ]
    }
   ],
   "source": [
    "lista = [3,2,1,312312321]\n",
    "\n",
    "for i in range(len(lista)):\n",
    "    menor = i\n",
    "    print(menor)\n",
    "    for j in range(i+1,len(lista)):\n",
    "        if lista[j] < lista[menor]:\n",
    "            menor = j\n",
    "    if lista[i] != lista[menor]:\n",
    "        aux = lista[i]\n",
    "        lista[i] = lista[menor]\n",
    "        lista[menor] = aux\n",
    "        \n",
    "print(lista)\n",
    "\n"
   ]
  },
  {
   "cell_type": "code",
   "execution_count": 50,
   "metadata": {},
   "outputs": [
    {
     "name": "stdout",
     "output_type": "stream",
     "text": [
      "DIGITE O PRIMEIRO NUMERO: 5\n",
      "DIGITE O OPERADOR: *\n",
      "DIGITE O SEGUNDO NUMERO: 10\n",
      "50.0\n"
     ]
    }
   ],
   "source": [
    "num1 = float(input(\"DIGITE O PRIMEIRO NUMERO: \"))\n",
    "operador = input(\"DIGITE O OPERADOR: \")\n",
    "num2 = float(input(\"DIGITE O SEGUNDO NUMERO: \"))\n",
    "\n",
    "if operador == \"+\" or operador.lower() == \"mais\":\n",
    "    print(num1 + num2)\n",
    "elif operador == \"-\" or operador.lower() == \"menos\":\n",
    "    print(num1 - num2)\n",
    "elif operador == \"*\" or operador.lower() == \"x\" or operador.lower() == \"vezes\" or operador.lower() == \"multiplicacao\":\n",
    "    print(num1 * num2)\n",
    "elif operador == \"/\" or operador.lower() == \"dividir\" or operador.lower() == \"divisao\":\n",
    "    print(num1 / num2)\n",
    "else:\n",
    "    print('tem algo errado ai mano')"
   ]
  },
  {
   "cell_type": "code",
   "execution_count": 2,
   "metadata": {},
   "outputs": [
    {
     "name": "stdout",
     "output_type": "stream",
     "text": [
      "[None, 2, None, 4, None, 6, None, 8, None]\n"
     ]
    }
   ],
   "source": [
    "#filter\n",
    "def pares(i):\n",
    "    if i%2 == 0:\n",
    "        return i\n",
    "    \n",
    "lista = [1,2,3,4,5,6,7,8,9]\n",
    "\n",
    "lista_filtred=filter(pares,lista)\n",
    "print(list(lista_filtred))"
   ]
  },
  {
   "cell_type": "code",
   "execution_count": 62,
   "metadata": {},
   "outputs": [
    {
     "name": "stdout",
     "output_type": "stream",
     "text": [
      "[2, 4, 6, 8, 10, 12, 14, 16, 18]\n"
     ]
    }
   ],
   "source": [
    "#map\n",
    "def dobro(i):\n",
    "    return i*2\n",
    "\n",
    "lista_dobro = map(dobro,lista)\n",
    "print(list(lista_dobro))"
   ]
  },
  {
   "cell_type": "code",
   "execution_count": 5,
   "metadata": {},
   "outputs": [
    {
     "name": "stdout",
     "output_type": "stream",
     "text": [
      "1 2\n",
      "3 3\n",
      "6 4\n",
      "10 5\n",
      "15 6\n",
      "21 7\n",
      "28 8\n",
      "36 9\n",
      "45\n"
     ]
    }
   ],
   "source": [
    "#reduce\n",
    "from functools import reduce\n",
    "\n",
    "def soma(x,y):\n",
    "    print(x,y)\n",
    "    return x+y\n",
    "\n",
    "soma = reduce(soma,lista)\n",
    "print(soma)\n"
   ]
  },
  {
   "cell_type": "code",
   "execution_count": 8,
   "metadata": {},
   "outputs": [
    {
     "name": "stdout",
     "output_type": "stream",
     "text": [
      "1 ovo cabeça\n",
      "2 bola ombro\n",
      "3 peixa joelho\n",
      "4 gato pe\n"
     ]
    }
   ],
   "source": [
    "#zip\n",
    "\n",
    "lista2 = ['ovo','bola','peixa','gato','macete']\n",
    "lista3 = ['cabeça','ombro','joelho','pe']\n",
    "\n",
    "for numero, nome,local in zip(lista,lista2,lista3):\n",
    "    print(numero,nome,local)"
   ]
  },
  {
   "cell_type": "code",
   "execution_count": 11,
   "metadata": {},
   "outputs": [
    {
     "name": "stdout",
     "output_type": "stream",
     "text": [
      "[2]\n"
     ]
    }
   ],
   "source": [
    "x = [1, 2, 3]\n",
    "y = [i for i in x if i % 2 == 0]\n",
    " \n",
    "print(y)"
   ]
  },
  {
   "cell_type": "code",
   "execution_count": 15,
   "metadata": {},
   "outputs": [
    {
     "data": {
      "image/png": "[encoded data removed]",
      "text/plain": [
       "<Figure size 432x288 with 1 Axes>"
      ]
     },
     "metadata": {
      "needs_background": "light"
     },
     "output_type": "display_data"
    }
   ],
   "source": [
    "import matplotlib.pyplot as plt\n",
    "\n",
    "#data\n",
    "x=[1,2,3,4,5]\n",
    "y=[2,3,7,1,0]\n",
    "title = 'Grafico de linhas - first '\n",
    "eixox = \"Eixo X\"\n",
    "eixoy = \"Eixo Y\"\n",
    "\n",
    "#title\n",
    "plt.title(title)\n",
    "\n",
    "#EIXOS\n",
    "plt.xlabel(eixox)\n",
    "plt.ylabel(eixoy)\n",
    "\n",
    "plt.plot(x,y)\n",
    "plt.show()"
   ]
  },
  {
   "cell_type": "code",
   "execution_count": 14,
   "metadata": {},
   "outputs": [
    {
     "data": {
      "image/png": "[encoded data removed]",
      "text/plain": [
       "<Figure size 432x288 with 1 Axes>"
      ]
     },
     "metadata": {
      "needs_background": "light"
     },
     "output_type": "display_data"
    }
   ],
   "source": [
    "import matplotlib.pyplot as plt\n",
    "\n",
    "#data\n",
    "x=[1,2,3,4,5]\n",
    "y=[2,3,7,1,0]\n",
    "title = 'Grafico de barras - second'\n",
    "eixox = \"Eixo X\"\n",
    "eixoy = \"Eixo Y\"\n",
    "\n",
    "#title\n",
    "plt.title(title)\n",
    "\n",
    "#EIXOS\n",
    "plt.xlabel(eixox)\n",
    "plt.ylabel(eixoy)\n",
    "\n",
    "plt.bar(x,y)\n",
    "plt.show()"
   ]
  },
  {
   "cell_type": "code",
   "execution_count": 18,
   "metadata": {},
   "outputs": [
    {
     "data": {
      "image/png": "[encoded data removed]",
      "text/plain": [
       "<Figure size 432x288 with 1 Axes>"
      ]
     },
     "metadata": {
      "needs_background": "light"
     },
     "output_type": "display_data"
    }
   ],
   "source": [
    "import matplotlib.pyplot as plt\n",
    "\n",
    "#data\n",
    "x1=[1,3,5,7,9]\n",
    "y1=[2,3,7,1,0]\n",
    "\n",
    "x2=[2,4,6,8,10]\n",
    "y2=[5,1,3,7,4]\n",
    "\n",
    "title = 'Grafico de barras 2 - second'\n",
    "eixox = \"Eixo X\"\n",
    "eixoy = \"Eixo Y\"\n",
    "\n",
    "#title\n",
    "plt.title(title)\n",
    "\n",
    "#EIXOS\n",
    "plt.xlabel(eixox)\n",
    "plt.ylabel(eixoy)\n",
    "\n",
    "#DADOS E LEGENDAS\n",
    "plt.bar(x1,y1,label = 'Grupo 1')\n",
    "plt.bar(x2,y2,label = 'Grupo 2')\n",
    "plt.legend()\n",
    "\n",
    "plt.show()"
   ]
  },
  {
   "cell_type": "code",
   "execution_count": 46,
   "metadata": {},
   "outputs": [
    {
     "data": {
      "image/png": "[encoded data removed]",
      "text/plain": [
       "<Figure size 432x288 with 1 Axes>"
      ]
     },
     "metadata": {
      "needs_background": "light"
     },
     "output_type": "display_data"
    }
   ],
   "source": [
    "import matplotlib.pyplot as plt\n",
    "\n",
    "#data\n",
    "x1=[1,3,5,7,9]\n",
    "y1=[2,3,7,1,0]\n",
    "\n",
    "title = 'Scatterplot: grafico de dispersao'\n",
    "eixox = \"Eixo X\"\n",
    "eixoy = \"Eixo Y\"\n",
    "\n",
    "#title\n",
    "plt.title(title)\n",
    "\n",
    "#EIXOS\n",
    "plt.xlabel(eixox)\n",
    "plt.ylabel(eixoy)\n",
    "\n",
    "#DADOS E LEGENDAS\n",
    "plt.scatter(x,y,label =\"meus pontos\",color=\"#B8860B\")\n",
    "plt.plot(x,y,label =\"meus pinto\",color=\"black\")\n",
    "plt.legend()\n",
    "\n",
    "plt.show()"
   ]
  },
  {
   "cell_type": "code",
   "execution_count": 52,
   "metadata": {},
   "outputs": [
    {
     "name": "stdout",
     "output_type": "stream",
     "text": [
      "[100, 300, 500, 700, 900]\n"
     ]
    },
    {
     "data": {
      "image/png": "[encoded data removed]",
      "text/plain": [
       "<Figure size 432x288 with 1 Axes>"
      ]
     },
     "metadata": {
      "needs_background": "light"
     },
     "output_type": "display_data"
    }
   ],
   "source": [
    "import matplotlib.pyplot as plt\n",
    "\n",
    "#data\n",
    "x=[1,3,5,7,9]\n",
    "y=[2,3,7,1,0]\n",
    "z=[100,300,500,700,900]\n",
    "\n",
    "print(z)\n",
    "title = 'Scatterplot: grafico de dispersao'\n",
    "eixox = \"Eixo X\"\n",
    "eixoy = \"Eixo Y\"\n",
    "\n",
    "#title\n",
    "plt.title(title)\n",
    "\n",
    "#EIXOS\n",
    "plt.xlabel(eixox)\n",
    "plt.ylabel(eixoy)\n",
    "\n",
    "#DADOS E LEGENDAS\n",
    "plt.scatter(x,y,label =\"meus pontos\",color=\"#B8860B\",marker=\"*\",s=z)\n",
    "plt.plot(x,y,label =\"meus pinto\",color=\"black\",linestyle='--')\n",
    "plt.legend()\n",
    "\n",
    "plt.show()"
   ]
  },
  {
   "cell_type": "code",
   "execution_count": 54,
   "metadata": {},
   "outputs": [
    {
     "name": "stdout",
     "output_type": "stream",
     "text": [
      "[100, 300, 500, 700, 900]\n"
     ]
    },
    {
     "data": {
      "image/png": "[encoded data removed]",
      "text/plain": [
       "<Figure size 432x288 with 1 Axes>"
      ]
     },
     "metadata": {
      "needs_background": "light"
     },
     "output_type": "display_data"
    }
   ],
   "source": [
    "import matplotlib.pyplot as plt\n",
    "\n",
    "#data\n",
    "x=[1,3,5,7,9]\n",
    "y=[2,3,7,1,0]\n",
    "z=[100,300,500,700,900]\n",
    "\n",
    "print(z)\n",
    "title = 'Scatterplot: grafico de dispersao'\n",
    "eixox = \"Eixo X\"\n",
    "eixoy = \"Eixo Y\"\n",
    "\n",
    "#title\n",
    "plt.title(title)\n",
    "\n",
    "#EIXOS\n",
    "plt.xlabel(eixox)\n",
    "plt.ylabel(eixoy)\n",
    "\n",
    "#DADOS E LEGENDAS\n",
    "plt.scatter(x,y,label =\"meus ponto\",color=\"#B8860B\",marker=\"*\",s=z)\n",
    "plt.plot(x,y,label =\"meus pinto\",color=\"black\",linestyle='--')\n",
    "plt.legend()\n",
    "\n",
    "plt.savefig(\"figura1.png\")\n",
    "plt.savefig(\"figura1dnv.png\",dpi=300)\n",
    "plt.savefig(\"figura1.pdf\")"
   ]
  },
  {
   "cell_type": "code",
   "execution_count": 73,
   "metadata": {},
   "outputs": [
    {
     "data": {
      "image/png": "[encoded data removed]",
      "text/plain": [
       "<Figure size 432x288 with 1 Axes>"
      ]
     },
     "metadata": {
      "needs_background": "light"
     },
     "output_type": "display_data"
    }
   ],
   "source": [
    "# CRESCIMENTO DA POP BR 80-16\n",
    "# DATASUS\n",
    "# DADOS .CSV\n",
    "\n",
    "dados = open('populacao-brasileira.csv').readlines()\n",
    " \n",
    "x = []\n",
    "y = []\n",
    "\n",
    "for i in range(len(dados)):\n",
    "    if i != 0:\n",
    "        linha = dados[i].split(\";\")\n",
    "        x.append(int(linha[0]))\n",
    "        y.append(int(linha[1]))        \n",
    "\n",
    "plt.bar(x,y)\n",
    "plt.title('CRESCIMENTO DA POP BR 80-16')\n",
    "plt.xlabel('ano')\n",
    "plt.ylabel('pop x100.000.000')\n",
    "plt.show()\n",
    "        "
   ]
  }
 ],
 "metadata": {
  "kernelspec": {
   "display_name": "Python 3",
   "language": "python",
   "name": "python3"
  },
  "language_info": {
   "codemirror_mode": {
    "name": "ipython",
    "version": 3
   },
   "file_extension": ".py",
   "mimetype": "text/x-python",
   "name": "python",
   "nbconvert_exporter": "python",
   "pygments_lexer": "ipython3",
   "version": "3.7.4"
  }
 },
 "nbformat": 4,
 "nbformat_minor": 2
}
